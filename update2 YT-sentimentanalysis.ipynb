{
 "cells": [
  {
   "cell_type": "markdown",
   "id": "f6aa999f-a731-457f-85e9-903b9a4de846",
   "metadata": {},
   "source": [
    "# Install"
   ]
  },
  {
   "cell_type": "code",
   "execution_count": null,
   "id": "ecf5a3d0-e2ca-4593-bf0b-bbec0426d930",
   "metadata": {},
   "outputs": [],
   "source": [
    "import requests\n",
    "import pandas as pd\n",
    "!pip install textblob\n",
    "from textblob import TextBlob  # Türkçe için ayrı öneri de vereceğim\n",
    "pip install streamlit\n",
    "pip install googletrans==4.0.0rc1\n"
   ]
  },
  {
   "cell_type": "markdown",
   "id": "36d31679-db2d-41c3-9183-df7b594e2c3f",
   "metadata": {},
   "source": [
    "# Main Script"
   ]
  },
  {
   "cell_type": "code",
   "execution_count": null,
   "id": "ccf741e0-212a-4828-83c7-909707630bc8",
   "metadata": {},
   "outputs": [],
   "source": [
    "import requests\n",
    "import pandas as pd\n",
    "import os\n",
    "from dotenv import load_dotenv\n",
    "\n",
    "load_dotenv()\n",
    "API_KEY = os.getenv(\"YOUTUBE_API_KEY\")\n",
    "VIDEO_ID = \"pcGzWN1HEzU\"\n",
    "\n",
    "def fetch_comments(video_id, api_key):\n",
    "    comments = []\n",
    "    page_token = ''\n",
    "    \n",
    "    while True:\n",
    "        url = \"https://www.googleapis.com/youtube/v3/commentThreads\"\n",
    "        params = {\n",
    "            \"part\": \"snippet\",\n",
    "            \"videoId\": video_id,\n",
    "            \"key\": api_key,\n",
    "            \"maxResults\": 100,\n",
    "            \"textFormat\": \"plainText\",\n",
    "            \"pageToken\": page_token\n",
    "        }\n",
    "\n",
    "        response = requests.get(url, params=params)\n",
    "        data = response.json()\n",
    "\n",
    "        if 'items' not in data:\n",
    "            print(\"Error:\", data)\n",
    "            break\n",
    "\n",
    "        for item in data['items']:\n",
    "            snippet = item['snippet']['topLevelComment']['snippet']\n",
    "            comments.append(snippet['textDisplay'])\n",
    "\n",
    "        page_token = data.get('nextPageToken')\n",
    "        if not page_token:\n",
    "            break\n",
    "\n",
    "    df = pd.DataFrame(comments, columns=[\"comment\"])\n",
    "    df.to_csv(\"comments.csv\", index=False)\n",
    "    return df\n"
   ]
  },
  {
   "cell_type": "markdown",
   "id": "6c9200d0-8877-4248-ab16-7472e724fd3c",
   "metadata": {},
   "source": [
    "# Sentiment Analysis"
   ]
  },
  {
   "cell_type": "code",
   "execution_count": null,
   "id": "a9fde3f2-8622-46d8-95ae-6d22dda50f68",
   "metadata": {},
   "outputs": [],
   "source": [
    "from textblob import TextBlob\n",
    "from main import get_translation  # Adjust this import if get_translation is defined elsewhere\n",
    "\n",
    "def analyze_sentiment(text):\n",
    "    translated = get_translation(text)  # Automatically translate the text to English\n",
    "    blob = TextBlob(translated)\n",
    "    polarity = blob.sentiment.polarity\n",
    "\n",
    "    if polarity > 0:\n",
    "        return \"positive\"\n",
    "    elif polarity < 0:\n",
    "        return \"negative\"\n",
    "    else:\n",
    "        return \"neutral\"\n"
   ]
  },
  {
   "cell_type": "markdown",
   "id": "f301bfe5-6aff-41f2-b95c-3227adfc820e",
   "metadata": {},
   "source": [
    "# Visualization"
   ]
  },
  {
   "cell_type": "code",
   "execution_count": null,
   "id": "d0f97462-666f-4496-b015-beb053eee314",
   "metadata": {},
   "outputs": [],
   "source": [
    "import matplotlib.pyplot as plt\n",
    "import seaborn as sns\n",
    "from wordcloud import WordCloud\n",
    "\n",
    "def plot_sentiment_distribution(df):\n",
    "    sns.countplot(data=df, x=\"sentiment\")\n",
    "    plt.title(\"Sentiment Distribution\")\n",
    "    plt.xlabel(\"Sentiment\")\n",
    "    plt.ylabel(\"Count\")\n",
    "    plt.show()\n",
    "\n",
    "def generate_wordcloud(df):\n",
    "    text = \" \".join(df[\"comment\"])\n",
    "    wordcloud = WordCloud(width=800, height=400).generate(text)\n",
    "    plt.imshow(wordcloud, interpolation='bilinear')\n",
    "    plt.axis(\"off\")\n",
    "    plt.title(\"Word Cloud\")\n",
    "    plt.show()\n"
   ]
  },
  {
   "cell_type": "markdown",
   "id": "4007e385-5799-4314-bb20-e12bcdf9b2c8",
   "metadata": {},
   "source": [
    "# Web Interface"
   ]
  },
  {
   "cell_type": "code",
   "execution_count": null,
   "id": "3be4b942-e6ad-451c-b687-079065b84ff8",
   "metadata": {},
   "outputs": [],
   "source": [
    "import streamlit as st\n",
    "import pandas as pd\n",
    "from main import fetch_comments\n",
    "from sentiment import analyze_sentiment\n",
    "from visualization import plot_sentiment_distribution, generate_wordcloud\n",
    "\n",
    "st.title(\"🎥 YouTube Comment Analyzer\")\n",
    "\n",
    "video_id = st.text_input(\"Enter YouTube Video ID:\")\n",
    "if st.button(\"Fetch & Analyze\"):\n",
    "    with st.spinner(\"Fetching comments...\"):\n",
    "        df = fetch_comments(video_id, api_key=\"YOUR_API_KEY_HERE\")\n",
    "        df[\"sentiment\"] = df[\"comment\"].apply(analyze_sentiment)\n",
    "        st.success(\"Comments fetched and analyzed!\")\n",
    "\n",
    "        st.subheader(\"📊 Sentiment Distribution\")\n",
    "        st.bar_chart(df[\"sentiment\"].value_counts())\n",
    "\n",
    "        st.subheader(\"☁️ Word Cloud\")\n",
    "        generate_wordcloud(df)\n",
    "\n",
    "        st.dataframe(df.head())\n"
   ]
  },
  {
   "cell_type": "markdown",
   "id": "96c8ecbc-5795-4b0c-9cc9-e75773e2bf18",
   "metadata": {},
   "source": [
    "# Dependencies File"
   ]
  },
  {
   "cell_type": "code",
   "execution_count": null,
   "id": "0506ff73-3171-4a03-a253-8cdcb789a70b",
   "metadata": {},
   "outputs": [],
   "source": [
    "requests\n",
    "pandas\n",
    "textblob\n",
    "seaborn\n",
    "matplotlib\n",
    "wordcloud\n",
    "streamlit\n",
    "python-dotenv\n"
   ]
  },
  {
   "cell_type": "markdown",
   "id": "f4191cb6-967d-4bf9-a32e-483e0293b180",
   "metadata": {},
   "source": [
    "# Violin Plot for Sentiment Polarity"
   ]
  },
  {
   "cell_type": "code",
   "execution_count": null,
   "id": "fc0aa3e2-7a2c-4b47-9514-4ee108f53ee3",
   "metadata": {},
   "outputs": [],
   "source": [
    "import matplotlib.pyplot as plt\n",
    "import seaborn as sns\n",
    "\n",
    "def plot_violin_sentiment(df):\n",
    "    fig, axes = plt.subplots(nrows=1, ncols=2, figsize=(12, 4))\n",
    "\n",
    "    # First plot: General distribution\n",
    "    sns.violinplot(y=df[\"polarity\"], ax=axes[0], showmeans=False, showmedians=True)\n",
    "    axes[0].set_title(\"Overall View of Comments\", fontsize=12)\n",
    "    axes[0].set_ylabel(\"Polarity (Sentiment)\", fontsize=10)\n",
    "    axes[0].set_xlabel(\"\")\n",
    "\n",
    "    # Second plot: Same data with custom x-label\n",
    "    sns.violinplot(y=df[\"polarity\"], ax=axes[1], showmeans=False, showmedians=True)\n",
    "    axes[1].set_title(\"Average Sentiment\", fontsize=12)\n",
    "    axes[1].set_ylabel(\"Polarity (Sentiment)\", fontsize=10)\n",
    "    axes[1].set_xlabel(\"\")\n",
    "\n",
    "    # Custom x-tick labels\n",
    "    axes[0].set_xticks([0])\n",
    "    axes[0].set_xticklabels([\"Average\"])\n",
    "\n",
    "    axes[1].set_xticks([0])\n",
    "    axes[1].set_xticklabels([\"Average\"])\n",
    "\n",
    "    plt.tight_layout()\n",
    "    plt.show()\n"
   ]
  },
  {
   "cell_type": "code",
   "execution_count": null,
   "id": "668efe92-3352-4c3e-92bf-013abfe35908",
   "metadata": {},
   "outputs": [],
   "source": [
    "import matplotlib.pyplot as plt\n",
    "\n",
    "def plot_sentiment_scatter(df):\n",
    "    # Optional: Define categories if you have them (e.g. video topics or tags)\n",
    "    # Otherwise use a dummy single category\n",
    "    df[\"category\"] = \"YouTube Comments\"  # default single category\n",
    "\n",
    "    fig, ax = plt.subplots(figsize=(12, 6))\n",
    "    \n",
    "    categories = list(df[\"category\"].unique())\n",
    "    colors = ['orange', 'blue', 'black', 'yellow', 'red']\n",
    "    \n",
    "    for category in categories:\n",
    "        sub_df = df[df[\"category\"] == category].reset_index(drop=True)\n",
    "        \n",
    "        x = sub_df[\"polarity\"]\n",
    "        y = sub_df[\"subjectivity\"]\n",
    "        \n",
    "        color = colors.pop() if colors else 'gray'  # fallback color\n",
    "        size = 250\n",
    "\n",
    "        ax.scatter(x, y, alpha=0.3, edgecolors='none', label=category, c=color, s=size)\n",
    "\n",
    "    ax.set_title(\"Polarity vs Subjectivity of Comments\")\n",
    "    ax.set_xlabel(\"Polarity\")\n",
    "    ax.set_ylabel(\"Subjectivity\")\n",
    "    ax.grid(True)\n",
    "    \n",
    "    ax.legend(loc='upper center', bbox_to_anchor=(0.5, 1.05), ncol=3, fancybox=True, shadow=True)\n",
    "\n",
    "    plt.tight_layout()\n",
    "    plt.show()\n"
   ]
  },
  {
   "cell_type": "code",
   "execution_count": null,
   "id": "6ede60ab-bc31-4f4d-a8cb-b185081238c6",
   "metadata": {},
   "outputs": [],
   "source": [
    "st.subheader(\"🔝 Top Positive Comments\")\n",
    "for c in df.sort_values(by=\"polarity\", ascending=False)[\"comment\"].head(3):\n",
    "    st.markdown(f\"> {c}\")\n",
    "\n",
    "st.subheader(\"🔻 Top Negative Comments\")\n",
    "for c in df.sort_values(by=\"polarity\")[\"comment\"].head(3):\n",
    "    st.markdown(f\"> {c}\")\n"
   ]
  },
  {
   "cell_type": "code",
   "execution_count": null,
   "id": "f0ad3995-3560-47ef-bb2c-6de145fea68d",
   "metadata": {},
   "outputs": [],
   "source": []
  }
 ],
 "metadata": {
  "kernelspec": {
   "display_name": "Python [conda env:base] *",
   "language": "python",
   "name": "conda-base-py"
  },
  "language_info": {
   "codemirror_mode": {
    "name": "ipython",
    "version": 3
   },
   "file_extension": ".py",
   "mimetype": "text/x-python",
   "name": "python",
   "nbconvert_exporter": "python",
   "pygments_lexer": "ipython3",
   "version": "3.12.3"
  }
 },
 "nbformat": 4,
 "nbformat_minor": 5
}
